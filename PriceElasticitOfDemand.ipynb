{
 "cells": [
  {
   "attachments": {},
   "cell_type": "markdown",
   "metadata": {},
   "source": [
    "Price elasticity of demand measures the extent to which the demand for a product reacts to variations in its price. In simpler terms, it quantifies the sensitivity of product demand to price fluctuations, indicating how much the demand for a product will alter in response to price increases or decreases.\n"
   ]
  },
  {
   "cell_type": "code",
   "execution_count": 1,
   "metadata": {},
   "outputs": [],
   "source": [
    "import pandas as pd"
   ]
  },
  {
   "cell_type": "code",
   "execution_count": 2,
   "metadata": {},
   "outputs": [
    {
     "name": "stdout",
     "output_type": "stream",
     "text": [
      "   Demand  Price\n",
      "0      15   2000\n",
      "1      26   1800\n",
      "2      34   1850\n",
      "3      29   1700\n",
      "4      23   1800\n",
      "5      33   1700\n",
      "6      38   1600\n"
     ]
    }
   ],
   "source": [
    "df = pd.DataFrame({\"Demand\": [15, 26, 34, 29, 23, 33, 38], \n",
    "                     \"Price\": [2000, 1800, 1850, 1700, 1800, 1700, 1600]})\n",
    "print(df)"
   ]
  },
  {
   "cell_type": "code",
   "execution_count": 3,
   "metadata": {},
   "outputs": [
    {
     "name": "stdout",
     "output_type": "stream",
     "text": [
      "   Demand  Price  % Change in Demand  % Change in Price\n",
      "0      15   2000                 NaN                NaN\n",
      "1      26   1800            0.733333          -0.100000\n",
      "2      34   1850            0.307692           0.027778\n",
      "3      29   1700           -0.147059          -0.081081\n",
      "4      23   1800           -0.206897           0.058824\n",
      "5      33   1700            0.434783          -0.055556\n",
      "6      38   1600            0.151515          -0.058824\n"
     ]
    }
   ],
   "source": [
    "df[\"% Change in Demand\"] = df[\"Demand\"].pct_change()\n",
    "df[\"% Change in Price\"] = df[\"Price\"].pct_change()\n",
    "print(df)"
   ]
  },
  {
   "cell_type": "code",
   "execution_count": 4,
   "metadata": {},
   "outputs": [
    {
     "name": "stdout",
     "output_type": "stream",
     "text": [
      "   Demand  Price  % Change in Demand  % Change in Price  Price Elasticity\n",
      "0      15   2000                 NaN                NaN               NaN\n",
      "1      26   1800            0.733333          -0.100000         -7.333333\n",
      "2      34   1850            0.307692           0.027778         11.076923\n",
      "3      29   1700           -0.147059          -0.081081          1.813725\n",
      "4      23   1800           -0.206897           0.058824         -3.517241\n",
      "5      33   1700            0.434783          -0.055556         -7.826087\n",
      "6      38   1600            0.151515          -0.058824         -2.575758\n"
     ]
    }
   ],
   "source": [
    "df[\"Price Elasticity\"] = df[\"% Change in Demand\"] / df[\"% Change in Price\"]\n",
    "print(df)"
   ]
  }
 ],
 "metadata": {
  "kernelspec": {
   "display_name": "pythonProject",
   "language": "python",
   "name": "python3"
  },
  "language_info": {
   "codemirror_mode": {
    "name": "ipython",
    "version": 3
   },
   "file_extension": ".py",
   "mimetype": "text/x-python",
   "name": "python",
   "nbconvert_exporter": "python",
   "pygments_lexer": "ipython3",
   "version": "3.9.12"
  },
  "orig_nbformat": 4
 },
 "nbformat": 4,
 "nbformat_minor": 2
}
